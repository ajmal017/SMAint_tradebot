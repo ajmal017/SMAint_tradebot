{
 "cells": [
  {
   "cell_type": "markdown",
   "metadata": {},
   "source": [
    "# <center>Тестинг функций и методов для торгового бота\n",
    "Статью по написанию бота см. здесь:   \n",
    "https://quantrum.me/2796-prostoj-bot-dlya-ib/   \n",
    "С полной версией кода по статье можно ознакомиться здесь:   \n",
    "https://gitlab.com/dmvlch/smaint/blob/master/SMAint.ipynb   \n",
    "\n",
    "В настоящем ноутбуке тестировались функции по мере прочтения этой статьи"
   ]
  },
  {
   "cell_type": "code",
   "execution_count": 15,
   "metadata": {},
   "outputs": [],
   "source": [
    "import requests\n",
    "import pandas as pd\n",
    "import time\n",
    "import talib\n",
    "import pytz\n",
    "import datetime\n",
    "import os\n",
    "from ib_insync import *"
   ]
  },
  {
   "cell_type": "code",
   "execution_count": 2,
   "metadata": {},
   "outputs": [
    {
     "name": "stdin",
     "output_type": "stream",
     "text": [
      "Enter ticker:  aapl\n",
      "Amount:  30\n"
     ]
    }
   ],
   "source": [
    "ticker = str(input('Enter ticker: ')).upper()\n",
    "count = int(input('Amount: '))"
   ]
  },
  {
   "cell_type": "code",
   "execution_count": 3,
   "metadata": {},
   "outputs": [
    {
     "data": {
      "text/plain": [
       "'AAPL'"
      ]
     },
     "execution_count": 3,
     "metadata": {},
     "output_type": "execute_result"
    }
   ],
   "source": [
    "ticker"
   ]
  },
  {
   "cell_type": "code",
   "execution_count": 4,
   "metadata": {},
   "outputs": [
    {
     "data": {
      "text/plain": [
       "Stock(symbol='AAPL')"
      ]
     },
     "execution_count": 4,
     "metadata": {},
     "output_type": "execute_result"
    }
   ],
   "source": [
    "contract = Stock(ticker)\n",
    "contract"
   ]
  },
  {
   "cell_type": "markdown",
   "metadata": {},
   "source": [
    "## Получение минутных данных\n",
    "Загрузка данных осуществляется с помощью сервиса [Alpha Vantage](https://www.alphavantage.co/). Здесь, с определенными ограничениями, можно бесплатно взять биржевые данные американских компаний.   \n",
    "\n",
    "### Функция загрузки данных"
   ]
  },
  {
   "cell_type": "code",
   "execution_count": 5,
   "metadata": {},
   "outputs": [],
   "source": [
    "def load_data(ticker, path='data', interval='1min', apikey='AO58MG05QIL3QRN2'):\n",
    "    filename = f'{ticker}.csv'\n",
    "    path_to_file = os.path.join(path, filename)\n",
    "    url = f'https://www.alphavantage.co/query?'\\\n",
    "          f'function=TIME_SERIES_INTRADAY&symbol={ticker}&'\\\n",
    "          f'interval={interval}&apikey={apikey}&datatype=csv'\n",
    "    r = requests.get(url)\n",
    "    content = r.content.decode('UTF-8')\n",
    "    with open(path_to_file, \"w\") as file:\n",
    "        file.write(content)\n",
    "    print(f'\\tUpdate {ticker} price history:', path_to_file)\n",
    "    return path_to_file"
   ]
  },
  {
   "cell_type": "code",
   "execution_count": 6,
   "metadata": {},
   "outputs": [
    {
     "name": "stdout",
     "output_type": "stream",
     "text": [
      "\tUpdate AAPL price history: data\\AAPL.csv\n"
     ]
    }
   ],
   "source": [
    "path_to_file = load_data(ticker)"
   ]
  },
  {
   "cell_type": "code",
   "execution_count": 7,
   "metadata": {},
   "outputs": [
    {
     "data": {
      "text/html": [
       "<div>\n",
       "<style scoped>\n",
       "    .dataframe tbody tr th:only-of-type {\n",
       "        vertical-align: middle;\n",
       "    }\n",
       "\n",
       "    .dataframe tbody tr th {\n",
       "        vertical-align: top;\n",
       "    }\n",
       "\n",
       "    .dataframe thead th {\n",
       "        text-align: right;\n",
       "    }\n",
       "</style>\n",
       "<table border=\"1\" class=\"dataframe\">\n",
       "  <thead>\n",
       "    <tr style=\"text-align: right;\">\n",
       "      <th></th>\n",
       "      <th>timestamp</th>\n",
       "      <th>open</th>\n",
       "      <th>high</th>\n",
       "      <th>low</th>\n",
       "      <th>close</th>\n",
       "      <th>volume</th>\n",
       "    </tr>\n",
       "  </thead>\n",
       "  <tbody>\n",
       "    <tr>\n",
       "      <th>0</th>\n",
       "      <td>2020-09-11 20:00:00</td>\n",
       "      <td>111.96</td>\n",
       "      <td>112.00</td>\n",
       "      <td>111.96</td>\n",
       "      <td>111.99</td>\n",
       "      <td>9351</td>\n",
       "    </tr>\n",
       "    <tr>\n",
       "      <th>1</th>\n",
       "      <td>2020-09-11 19:59:00</td>\n",
       "      <td>111.96</td>\n",
       "      <td>111.99</td>\n",
       "      <td>111.95</td>\n",
       "      <td>111.99</td>\n",
       "      <td>7252</td>\n",
       "    </tr>\n",
       "    <tr>\n",
       "      <th>2</th>\n",
       "      <td>2020-09-11 19:58:00</td>\n",
       "      <td>111.93</td>\n",
       "      <td>111.96</td>\n",
       "      <td>111.93</td>\n",
       "      <td>111.95</td>\n",
       "      <td>5995</td>\n",
       "    </tr>\n",
       "    <tr>\n",
       "      <th>3</th>\n",
       "      <td>2020-09-11 19:57:00</td>\n",
       "      <td>111.95</td>\n",
       "      <td>111.97</td>\n",
       "      <td>111.94</td>\n",
       "      <td>111.96</td>\n",
       "      <td>6783</td>\n",
       "    </tr>\n",
       "    <tr>\n",
       "      <th>4</th>\n",
       "      <td>2020-09-11 19:56:00</td>\n",
       "      <td>111.95</td>\n",
       "      <td>111.97</td>\n",
       "      <td>111.94</td>\n",
       "      <td>111.97</td>\n",
       "      <td>2830</td>\n",
       "    </tr>\n",
       "  </tbody>\n",
       "</table>\n",
       "</div>"
      ],
      "text/plain": [
       "             timestamp    open    high     low   close  volume\n",
       "0  2020-09-11 20:00:00  111.96  112.00  111.96  111.99    9351\n",
       "1  2020-09-11 19:59:00  111.96  111.99  111.95  111.99    7252\n",
       "2  2020-09-11 19:58:00  111.93  111.96  111.93  111.95    5995\n",
       "3  2020-09-11 19:57:00  111.95  111.97  111.94  111.96    6783\n",
       "4  2020-09-11 19:56:00  111.95  111.97  111.94  111.97    2830"
      ]
     },
     "execution_count": 7,
     "metadata": {},
     "output_type": "execute_result"
    }
   ],
   "source": [
    "data = pd.read_csv(path_to_file)\n",
    "data.head()"
   ]
  },
  {
   "cell_type": "markdown",
   "metadata": {},
   "source": [
    "## Вспомогательные методы\n",
    "### Функция получения часового пояса"
   ]
  },
  {
   "cell_type": "code",
   "execution_count": 11,
   "metadata": {},
   "outputs": [],
   "source": [
    "def get_tz(ticker, interval = '1min', apikey = 'AO58MG05QIL3QRN2'):\n",
    "    filename = f'{ticker}.json'\n",
    "    url = f'https://www.alphavantage.co/query?function=TIME_SERIES_INTRADAY&symbol={ticker}&interval={interval}&apikey={apikey}'\n",
    "    r = requests.get(url)\n",
    "    content = r.content.decode('UTF-8')\n",
    "    with open(filename, \"w\") as file:\n",
    "        file.write(content)\n",
    "    data = pd.read_json(f'{ticker}.json')\n",
    "    tz = data['Meta Data']['6. Time Zone']\n",
    "    os.remove(f'{ticker}.json')\n",
    " \n",
    "    return tz"
   ]
  },
  {
   "cell_type": "code",
   "execution_count": 9,
   "metadata": {},
   "outputs": [
    {
     "data": {
      "text/plain": [
       "'US/Eastern'"
      ]
     },
     "execution_count": 9,
     "metadata": {},
     "output_type": "execute_result"
    }
   ],
   "source": [
    "tz = get_tz(ticker)\n",
    "tz"
   ]
  },
  {
   "cell_type": "markdown",
   "metadata": {},
   "source": [
    "### функции time_check, которая:\n",
    "- определит торговые дни и часы;\n",
    "- разделит торговые часы на состояния рынка (премаркет, регулярная сессия, постмаркет);\n",
    "- определит местное время (для этого прежде получали часовой пояс);\n",
    "- сопоставит местное время с состоянием рынка;\n",
    "- вернет текущее состояние рынка."
   ]
  },
  {
   "cell_type": "code",
   "execution_count": 5,
   "metadata": {},
   "outputs": [],
   "source": [
    "def time_check(ticker):\n",
    "    contract = Stock(ticker)\n",
    "    cds = ib.reqContractDetails(contract)\n",
    "    hours = cds[0].tradingHours\n",
    "    hourslist1 = hours.split(';')\n",
    "    hourslist2 = hourslist1[0].split('-')\n",
    "    hourslistopening = hourslist2[0].split(':')\n",
    "    tz = get_tz(ticker)\n",
    "    today = datetime.datetime.now(tz=pytz.UTC).astimezone(pytz.timezone(tz))\n",
    "    date = today.strftime(\"%Y%m%d\")\n",
    "    time = today.strftime(\"%H%M\")\n",
    "    print('DateTime: ', today.strftime(\"%d-%m-%Y at %I:%M%p\"), tz)\n",
    "    if hourslistopening[1] == 'CLOSED':\n",
    "        return 'close'\n",
    "    else:\n",
    "        hourslistclosing = hourslist2[1].split(':')\n",
    "        openingsdict = dict(zip(hourslistopening[::2], hourslistopening[1::2]))\n",
    "        closingdict = dict(zip(hourslistclosing[::2], hourslistclosing[1::2]))\n",
    "        hoursregular = cds[0].liquidHours\n",
    "        hourslist1regular = hoursregular.split(';')\n",
    "        hourslist2regular = hourslist1regular[0].split('-')\n",
    "        hourslistopeningregular = hourslist2regular[0].split(':')\n",
    "        hourslistclosingregular = hourslist2regular[1].split(':')\n",
    "        openingsdictregular = dict(zip(hourslistopeningregular[::2], hourslistopeningregular[1::2]))\n",
    "        closingdictregular = dict(zip(hourslistclosingregular[::2], hourslistclosingregular[1::2]))\n",
    "        rangelist = []\n",
    "        for key, value in openingsdict.items():\n",
    "            rangelist.append(value)\n",
    "        for key, value in closingdict.items():\n",
    "            rangelist.append(value)\n",
    "        for key, value in openingsdictregular.items():\n",
    "            rangelist.append(value)\n",
    "        for key, value in closingdictregular.items():\n",
    "            rangelist.append(value)\n",
    "        sortrangelist = sorted(rangelist)\n",
    "        if sortrangelist[0] <= time < sortrangelist[1]:\n",
    "            return 'premarket'\n",
    "        elif sortrangelist[1] <= time < sortrangelist[2]:\n",
    "            return 'regular'\n",
    "        elif sortrangelist[2] <= time < sortrangelist[3]:\n",
    "            return 'postmarket'\n",
    "        else:\n",
    "            return 'close'"
   ]
  },
  {
   "cell_type": "markdown",
   "metadata": {},
   "source": [
    "### Функции коннекта и дисконнекта с биржей через IB"
   ]
  },
  {
   "cell_type": "code",
   "execution_count": 6,
   "metadata": {},
   "outputs": [],
   "source": [
    "def connect():\n",
    "    if not ib.isConnected():  # connect only without active connection    \n",
    "        try:\n",
    "            print('Connecting...')\n",
    "            ib.connect('127.0.0.1', 7497, clientId=1)  # connect\n",
    "        except Exception as ex:\n",
    "            print('Error:', ex)  # catch at exception\n",
    "\n",
    "    if ib.isConnected():\n",
    "        print(\"Successfully connected\")"
   ]
  },
  {
   "cell_type": "code",
   "execution_count": 7,
   "metadata": {},
   "outputs": [],
   "source": [
    "def disconnect():\n",
    "    if ib.isConnected():  # check for connection\n",
    "        ib.disconnect()  # disconnect\n",
    "\n",
    "        while ib.isConnected():  # wait while disconnecting\n",
    "            time.sleep(1)  # sleep 1 sec on waiting\n",
    "\n",
    "    print(\"Successful disconnected with TWS\")"
   ]
  },
  {
   "cell_type": "code",
   "execution_count": 16,
   "metadata": {},
   "outputs": [],
   "source": [
    "util.startLoop()\n",
    "ib = IB()"
   ]
  },
  {
   "cell_type": "code",
   "execution_count": 18,
   "metadata": {},
   "outputs": [
    {
     "name": "stdout",
     "output_type": "stream",
     "text": [
      "Connecting...\n",
      "Successfully connected\n"
     ]
    }
   ],
   "source": [
    "connect()"
   ]
  },
  {
   "cell_type": "code",
   "execution_count": 19,
   "metadata": {},
   "outputs": [
    {
     "name": "stdout",
     "output_type": "stream",
     "text": [
      "DateTime:  14-09-2020 at 04:18AM US/Eastern\n"
     ]
    },
    {
     "data": {
      "text/plain": [
       "'premarket'"
      ]
     },
     "execution_count": 19,
     "metadata": {},
     "output_type": "execute_result"
    }
   ],
   "source": [
    "time_check(ticker)"
   ]
  },
  {
   "cell_type": "code",
   "execution_count": 20,
   "metadata": {},
   "outputs": [],
   "source": [
    "# disconnect()"
   ]
  },
  {
   "cell_type": "markdown",
   "metadata": {},
   "source": [
    "### Проверка баланса и позиций"
   ]
  },
  {
   "cell_type": "code",
   "execution_count": 21,
   "metadata": {},
   "outputs": [],
   "source": [
    "def balance():\n",
    "    balances = {av.tag: float(av.value) for av in ib.accountSummary() if av.tag in ['AvailableFunds', 'BuyingPower', 'TotalCashValue', 'NetLiquidation']}\n",
    "    balance = balances.get('AvailableFunds', 0)\n",
    " \n",
    "    return balance"
   ]
  },
  {
   "cell_type": "code",
   "execution_count": 22,
   "metadata": {},
   "outputs": [
    {
     "data": {
      "text/plain": [
       "1219992.2"
      ]
     },
     "execution_count": 22,
     "metadata": {},
     "output_type": "execute_result"
    }
   ],
   "source": [
    "balance()"
   ]
  },
  {
   "cell_type": "markdown",
   "metadata": {},
   "source": [
    "### Проверка покупательной способности с помощью функции **check_balance**"
   ]
  },
  {
   "cell_type": "code",
   "execution_count": 53,
   "metadata": {},
   "outputs": [],
   "source": [
    "def read_data(ticker, path='data'):\n",
    "    filename = f'{ticker}.csv'\n",
    "    path_to_file = os.path.join(path, filename)\n",
    "    data = pd.read_csv(path_to_file)\n",
    "    os.remove(path_to_file)\n",
    "    \n",
    "    return data"
   ]
  },
  {
   "cell_type": "code",
   "execution_count": 23,
   "metadata": {},
   "outputs": [],
   "source": [
    "def check_balance(ticker, count):\n",
    "    price = read_data(ticker)['close'].iloc[-1]\n",
    "    amount = price * count\n",
    "    if balance() > amount:\n",
    "        return True\n",
    "    else:\n",
    "        return False"
   ]
  },
  {
   "cell_type": "code",
   "execution_count": 30,
   "metadata": {},
   "outputs": [
    {
     "data": {
      "text/plain": [
       "True"
      ]
     },
     "execution_count": 30,
     "metadata": {},
     "output_type": "execute_result"
    }
   ],
   "source": [
    "check_balance(ticker, count)"
   ]
  },
  {
   "cell_type": "markdown",
   "metadata": {},
   "source": [
    "### список открытых позиций, получаемый с помощью метода **positions** из IB.API"
   ]
  },
  {
   "cell_type": "code",
   "execution_count": 31,
   "metadata": {},
   "outputs": [],
   "source": [
    "def list_positions():\n",
    "    positions = ib.positions()\n",
    "    positions = \"\\n\".join([f\"{p.contract.localSymbol} {p.position}x{p.avgCost}\" for p in positions])\n",
    " \n",
    "    return positions"
   ]
  },
  {
   "cell_type": "markdown",
   "metadata": {},
   "source": [
    "Данный код возвращает наименование тикера, количество и стоимость каждой позиции"
   ]
  },
  {
   "cell_type": "code",
   "execution_count": 33,
   "metadata": {},
   "outputs": [
    {
     "name": "stdout",
     "output_type": "stream",
     "text": [
      "ESGV 1142.0x52.7765556\n",
      "ESGD 954.0x64.1715282\n",
      "DVY 292.0x101.06176745\n",
      "VO 50.0x170.48881\n",
      "VDE 99.0x81.962902\n",
      "TFI 1109.0x50.50644005\n",
      "IBKR 2800.0x39.4058383\n",
      "TIP 207.0x115.00465265\n",
      "BWX 712.0x28.57725195\n",
      "LQD 99.0x124.4389121\n",
      "ESML 309.0x27.38696345\n",
      "VNQ 137.0x88.7322321\n",
      "ESGE 1221.0x33.994677\n",
      "EAGG 1280.0x53.3022901\n"
     ]
    }
   ],
   "source": [
    "print(list_positions())"
   ]
  },
  {
   "cell_type": "markdown",
   "metadata": {},
   "source": [
    "### функция **list_orders**, показывающая список **активных ордеров** использующая метод **openTrades**"
   ]
  },
  {
   "cell_type": "code",
   "execution_count": 34,
   "metadata": {},
   "outputs": [],
   "source": [
    "def list_orders():\n",
    "    trades = ib.openTrades()\n",
    "    orders = \"\\n\".join([f\"{t.order.action} {t.contract.secType} {t.contract.symbol} {t.contract.localSymbol}\" f\" {t.order.totalQuantity}x{t.order.lmtPrice}\" for t in trades])\n",
    " \n",
    "    return orders"
   ]
  },
  {
   "cell_type": "code",
   "execution_count": 35,
   "metadata": {},
   "outputs": [
    {
     "data": {
      "text/plain": [
       "''"
      ]
     },
     "execution_count": 35,
     "metadata": {},
     "output_type": "execute_result"
    }
   ],
   "source": [
    "list_orders()"
   ]
  },
  {
   "cell_type": "markdown",
   "metadata": {},
   "source": [
    "## Описание логики пересечений\n",
    "Расчет скользящих средних, реализацию логики пересечений и подачу сигнала на покупку/продажу осуществляет функция **algorithm**"
   ]
  },
  {
   "cell_type": "markdown",
   "metadata": {},
   "source": [
    "Получим цены закрытия"
   ]
  },
  {
   "cell_type": "code",
   "execution_count": 36,
   "metadata": {},
   "outputs": [],
   "source": [
    "try:\n",
    "    close = read_data(ticker)['close'].fillna(method='ffill')\n",
    "except KeyError:\n",
    "    print('No data, the limit of requests may be exceeded')\n",
    "    disconnect()"
   ]
  },
  {
   "cell_type": "code",
   "execution_count": 37,
   "metadata": {},
   "outputs": [
    {
     "data": {
      "text/plain": [
       "0     111.99\n",
       "1     111.99\n",
       "2     111.95\n",
       "3     111.96\n",
       "4     111.97\n",
       "       ...  \n",
       "95    112.00\n",
       "96    112.01\n",
       "97    112.04\n",
       "98    112.01\n",
       "99    112.02\n",
       "Name: close, Length: 100, dtype: float64"
      ]
     },
     "execution_count": 37,
     "metadata": {},
     "output_type": "execute_result"
    }
   ],
   "source": [
    "close"
   ]
  },
  {
   "cell_type": "code",
   "execution_count": 38,
   "metadata": {},
   "outputs": [],
   "source": [
    "ma_long = talib.SMA(close, timeperiod=26)\n",
    "ma_short = talib.SMA(close, timeperiod=9)"
   ]
  },
  {
   "cell_type": "code",
   "execution_count": 40,
   "metadata": {},
   "outputs": [
    {
     "name": "stdout",
     "output_type": "stream",
     "text": [
      "0            NaN\n",
      "1            NaN\n",
      "2            NaN\n",
      "3            NaN\n",
      "4            NaN\n",
      "         ...    \n",
      "95    111.962308\n",
      "96    111.963462\n",
      "97    111.966923\n",
      "98    111.970385\n",
      "99    111.973077\n",
      "Length: 100, dtype: float64 0            NaN\n",
      "1            NaN\n",
      "2            NaN\n",
      "3            NaN\n",
      "4            NaN\n",
      "         ...    \n",
      "95    111.990000\n",
      "96    111.991111\n",
      "97    111.995556\n",
      "98    111.997778\n",
      "99    112.003333\n",
      "Length: 100, dtype: float64\n"
     ]
    }
   ],
   "source": [
    "print(ma_long, ma_short)"
   ]
  },
  {
   "cell_type": "markdown",
   "metadata": {},
   "source": [
    "если хотим скачать более 100 последних значений"
   ]
  },
  {
   "cell_type": "code",
   "execution_count": 43,
   "metadata": {},
   "outputs": [
    {
     "data": {
      "text/plain": [
       "'https://www.alphavantage.co/query?function=TIME_SERIES_INTRADAY&symbol=AAPL&interval=1min&apikey=AO58MG05QIL3QRN2&datatype=csv&outputsize=full'"
      ]
     },
     "execution_count": 43,
     "metadata": {},
     "output_type": "execute_result"
    }
   ],
   "source": [
    "interval='1min'; apikey='AO58MG05QIL3QRN2'\n",
    "url = f'https://www.alphavantage.co/query?function=TIME_SERIES_INTRADAY&'\\\n",
    "      f'symbol={ticker}&interval={interval}&apikey={apikey}&datatype=csv&outputsize=full'\n",
    "url"
   ]
  },
  {
   "cell_type": "markdown",
   "metadata": {},
   "source": [
    "для приказа на сделку 9покупку или продажу) учитываем противоположность сигналов за последнюю и предыдущую минуту"
   ]
  },
  {
   "cell_type": "code",
   "execution_count": 44,
   "metadata": {},
   "outputs": [],
   "source": [
    "if ma_long.iloc[-2] > ma_short.iloc[-2] and ma_long.iloc[-1] < ma_short.iloc[-1]:\n",
    "    contract = contract(ticker)\n",
    "    buy(ticker, contract)\n",
    "elif ma_long.iloc[-2] < ma_short.iloc[-2] and ma_long.iloc[-1] > ma_short.iloc[-1]:\n",
    "    contract = contract(ticker)\n",
    "    sell(ticker, contract)"
   ]
  },
  {
   "cell_type": "code",
   "execution_count": 45,
   "metadata": {},
   "outputs": [],
   "source": [
    "def buy(ticker, contract):\n",
    "    if f'{ticker}' not in list_positions():\n",
    "        if f'{ticker}' not in list_orders():\n",
    "            order = MarketOrder('BUY', f'{count}')\n",
    "            ib.placeOrder(contract, order)"
   ]
  },
  {
   "cell_type": "code",
   "execution_count": 46,
   "metadata": {},
   "outputs": [],
   "source": [
    "def sell(ticker, contract):\n",
    "    if f'{ticker}' in list_positions():\n",
    "        if f'{ticker}' not in list_orders(): \n",
    "            order = MarketOrder('SELL', f'{count}')\n",
    "            ib.placeOrder(contract, order)"
   ]
  },
  {
   "cell_type": "markdown",
   "metadata": {},
   "source": [
    "#### Код функции **algorithm** полностью:"
   ]
  },
  {
   "cell_type": "code",
   "execution_count": 47,
   "metadata": {},
   "outputs": [],
   "source": [
    "def algorithm(ticker):\n",
    "    try:\n",
    "        close = read_data(ticker)['close'].fillna(method='ffill')\n",
    "    except KeyError:\n",
    "        print('No data, the limit of requests may be exceeded')\n",
    "        disconnect()\n",
    "    else:\n",
    "        ma_long = talib.SMA(close, timeperiod=26)\n",
    "        ma_short = talib.SMA(close, timeperiod=9)\n",
    "        last_price = close.iloc[-1]\n",
    "        print(f'\\tCheck SMA for {ticker} (last={last_price:.2f}): Short={ma_short.iloc[-1]:.4f} Long={ma_long.iloc[-1]:.4f}')\n",
    "        print(f'\\tCheck SMA for {ticker} (last={last_price:.2f}): Short={ma_short.iloc[-2]:.4f} Long={ma_long.iloc[-2]:.4f} (previous)')\n",
    "        if ma_long.iloc[-2] > ma_short.iloc[-2] and ma_long.iloc[-1] < ma_short.iloc[-1]:\n",
    "            contract = trade(ticker)\n",
    "            buy(ticker, contract)\n",
    "        elif ma_long.iloc[-2] < ma_short.iloc[-2] and ma_long.iloc[-1] > ma_short.iloc[-1]:\n",
    "            contract = trade(ticker)\n",
    "            sell(ticker, contract)"
   ]
  },
  {
   "cell_type": "markdown",
   "metadata": {},
   "source": [
    "## Основной цикл работы"
   ]
  },
  {
   "cell_type": "code",
   "execution_count": 48,
   "metadata": {},
   "outputs": [],
   "source": [
    "# while True:\n",
    "#     load_data(ticker)\n",
    "#     algorithm(ticker)\n",
    "#     time.sleep(60)"
   ]
  },
  {
   "cell_type": "code",
   "execution_count": 49,
   "metadata": {},
   "outputs": [],
   "source": [
    "# time_check()\n",
    "# check_balance()"
   ]
  },
  {
   "cell_type": "markdown",
   "metadata": {},
   "source": [
    "В случае прохождения всех проверок работу начинает основной цикл. Все это осуществляет функция **run_algorithm**"
   ]
  },
  {
   "cell_type": "code",
   "execution_count": 54,
   "metadata": {},
   "outputs": [],
   "source": [
    "util.startLoop()\n",
    "ib = IB()"
   ]
  },
  {
   "cell_type": "code",
   "execution_count": 55,
   "metadata": {},
   "outputs": [
    {
     "name": "stdout",
     "output_type": "stream",
     "text": [
      "Connecting...\n",
      "Successfully connected\n"
     ]
    }
   ],
   "source": [
    "connect()"
   ]
  },
  {
   "cell_type": "code",
   "execution_count": 50,
   "metadata": {},
   "outputs": [],
   "source": [
    "def run_algorithm():\n",
    "    messages = {\n",
    "      'premarket': 'Premarket',\n",
    "      'postmarket': 'Postmarket',\n",
    "      'close': 'Closed',\n",
    "      'regular': 'Regular session', }\n",
    "    message = messages.get(time_check(ticker), 'Uncertain')\n",
    "    print(message)\n",
    "    if message == 'Regular session':\n",
    "        load_data(ticker)\n",
    "        if check_balance(ticker, count):\n",
    "            print('== Start working ==')\n",
    "            while True:\n",
    "                load_data(ticker)\n",
    "                algorithm(ticker)\n",
    "                time.sleep(60)\n",
    "        else:\n",
    "            print('Insufficient funds')\n",
    "    else:\n",
    "        print('Wait for the regular session to open')"
   ]
  },
  {
   "cell_type": "code",
   "execution_count": 56,
   "metadata": {},
   "outputs": [
    {
     "name": "stdout",
     "output_type": "stream",
     "text": [
      "DateTime:  14-09-2020 at 06:06AM US/Eastern\n",
      "Premarket\n",
      "Wait for the regular session to open\n"
     ]
    }
   ],
   "source": [
    "run_algorithm()"
   ]
  },
  {
   "cell_type": "code",
   "execution_count": 57,
   "metadata": {},
   "outputs": [
    {
     "name": "stdout",
     "output_type": "stream",
     "text": [
      "Successful disconnected with TWS\n"
     ]
    }
   ],
   "source": [
    "disconnect()"
   ]
  },
  {
   "cell_type": "code",
   "execution_count": null,
   "metadata": {},
   "outputs": [],
   "source": []
  }
 ],
 "metadata": {
  "kernelspec": {
   "display_name": "Python 3",
   "language": "python",
   "name": "python3"
  },
  "language_info": {
   "codemirror_mode": {
    "name": "ipython",
    "version": 3
   },
   "file_extension": ".py",
   "mimetype": "text/x-python",
   "name": "python",
   "nbconvert_exporter": "python",
   "pygments_lexer": "ipython3",
   "version": "3.7.7"
  }
 },
 "nbformat": 4,
 "nbformat_minor": 4
}
